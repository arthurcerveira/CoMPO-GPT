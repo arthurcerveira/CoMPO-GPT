{
 "cells": [
  {
   "cell_type": "code",
   "execution_count": 2,
   "metadata": {},
   "outputs": [
    {
     "data": {
      "application/vnd.jupyter.widget-view+json": {
       "model_id": "17421ec3776c42cdbf73b2226ff57bc7",
       "version_major": 2,
       "version_minor": 0
      },
      "text/plain": [
       "FloatProgress(value=0.0, layout=Layout(width='auto'), style=ProgressStyle(bar_color='black'))"
      ]
     },
     "metadata": {},
     "output_type": "display_data"
    },
    {
     "data": {
      "text/html": [
       "<div>\n",
       "<style scoped>\n",
       "    .dataframe tbody tr th:only-of-type {\n",
       "        vertical-align: middle;\n",
       "    }\n",
       "\n",
       "    .dataframe tbody tr th {\n",
       "        vertical-align: top;\n",
       "    }\n",
       "\n",
       "    .dataframe thead th {\n",
       "        text-align: right;\n",
       "    }\n",
       "</style>\n",
       "<table border=\"1\" class=\"dataframe\">\n",
       "  <thead>\n",
       "    <tr style=\"text-align: right;\">\n",
       "      <th></th>\n",
       "      <th>Ambit_InchiKey</th>\n",
       "      <th>Original_Entry_ID</th>\n",
       "      <th>Entrez_ID</th>\n",
       "      <th>Activity_Flag</th>\n",
       "      <th>pXC50</th>\n",
       "      <th>DB</th>\n",
       "      <th>Original_Assay_ID</th>\n",
       "      <th>Tax_ID</th>\n",
       "      <th>Gene_Symbol</th>\n",
       "      <th>Ortholog_Group</th>\n",
       "      <th>InChI</th>\n",
       "      <th>SMILES</th>\n",
       "    </tr>\n",
       "  </thead>\n",
       "  <tbody>\n",
       "    <tr>\n",
       "      <th>0</th>\n",
       "      <td>AAAAZQPHATYWOK-YRBRRWAQNA-N</td>\n",
       "      <td>11399331</td>\n",
       "      <td>2064</td>\n",
       "      <td>A</td>\n",
       "      <td>7.19382</td>\n",
       "      <td>pubchem</td>\n",
       "      <td>248914</td>\n",
       "      <td>9606</td>\n",
       "      <td>ERBB2</td>\n",
       "      <td>1346</td>\n",
       "      <td>InChI=1/C32H29ClN6O3S/c1-4-41-28-16-25-22(15-2...</td>\n",
       "      <td>ClC=1C=C(NC=2C=3C(N=CC2C#N)=CC(OCC)=C(NC(=O)/C...</td>\n",
       "    </tr>\n",
       "    <tr>\n",
       "      <th>1</th>\n",
       "      <td>AAAAZQPHATYWOK-YRBRRWAQNA-N</td>\n",
       "      <td>CHEMBL175513</td>\n",
       "      <td>1956</td>\n",
       "      <td>A</td>\n",
       "      <td>6.73000</td>\n",
       "      <td>chembl20</td>\n",
       "      <td>312997</td>\n",
       "      <td>9606</td>\n",
       "      <td>EGFR</td>\n",
       "      <td>1260</td>\n",
       "      <td>InChI=1/C32H29ClN6O3S/c1-4-41-28-16-25-22(15-2...</td>\n",
       "      <td>C1=2C(=C(C#N)C=NC1=CC(=C(C2)NC(/C=C/CN(C)C)=O)...</td>\n",
       "    </tr>\n",
       "    <tr>\n",
       "      <th>2</th>\n",
       "      <td>AAABHMIRDIOYOK-NPVYFSBINA-N</td>\n",
       "      <td>CHEMBL1527551</td>\n",
       "      <td>10919</td>\n",
       "      <td>N</td>\n",
       "      <td>4.55000</td>\n",
       "      <td>chembl20</td>\n",
       "      <td>737344</td>\n",
       "      <td>9606</td>\n",
       "      <td>EHMT2</td>\n",
       "      <td>6822</td>\n",
       "      <td>InChI=1/C18H14N6O3/c1-23-10-15(24(26)27)16(22-...</td>\n",
       "      <td>O=C(NC=1C=C2N=C(NC2=CC1)C=3C=CC=CC3)C4=NN(C=C4...</td>\n",
       "    </tr>\n",
       "    <tr>\n",
       "      <th>3</th>\n",
       "      <td>AAABHMIRDIOYOK-NPVYFSBINA-N</td>\n",
       "      <td>CHEMBL1527551</td>\n",
       "      <td>19885</td>\n",
       "      <td>A</td>\n",
       "      <td>5.35000</td>\n",
       "      <td>chembl20</td>\n",
       "      <td>688759</td>\n",
       "      <td>10090</td>\n",
       "      <td>RORC</td>\n",
       "      <td>3770</td>\n",
       "      <td>InChI=1/C18H14N6O3/c1-23-10-15(24(26)27)16(22-...</td>\n",
       "      <td>O=C(NC=1C=C2N=C(NC2=CC1)C=3C=CC=CC3)C4=NN(C=C4...</td>\n",
       "    </tr>\n",
       "    <tr>\n",
       "      <th>4</th>\n",
       "      <td>AAABHMIRDIOYOK-NPVYFSBINA-N</td>\n",
       "      <td>CHEMBL1527551</td>\n",
       "      <td>216</td>\n",
       "      <td>N</td>\n",
       "      <td>4.40000</td>\n",
       "      <td>chembl20</td>\n",
       "      <td>688238</td>\n",
       "      <td>9606</td>\n",
       "      <td>ALDH1A1</td>\n",
       "      <td>143</td>\n",
       "      <td>InChI=1/C18H14N6O3/c1-23-10-15(24(26)27)16(22-...</td>\n",
       "      <td>O=C(NC=1C=C2N=C(NC2=CC1)C=3C=CC=CC3)C4=NN(C=C4...</td>\n",
       "    </tr>\n",
       "    <tr>\n",
       "      <th>5</th>\n",
       "      <td>AAABHMIRDIOYOK-NPVYFSBINA-N</td>\n",
       "      <td>CHEMBL1527551</td>\n",
       "      <td>2740</td>\n",
       "      <td>N</td>\n",
       "      <td>4.95000</td>\n",
       "      <td>chembl20</td>\n",
       "      <td>845177</td>\n",
       "      <td>9606</td>\n",
       "      <td>GLP1R</td>\n",
       "      <td>1701</td>\n",
       "      <td>InChI=1/C18H14N6O3/c1-23-10-15(24(26)27)16(22-...</td>\n",
       "      <td>O=C(NC=1C=C2N=C(NC2=CC1)C=3C=CC=CC3)C4=NN(C=C4...</td>\n",
       "    </tr>\n",
       "    <tr>\n",
       "      <th>6</th>\n",
       "      <td>AAABHMIRDIOYOK-NPVYFSBINA-N</td>\n",
       "      <td>CHEMBL1527551</td>\n",
       "      <td>2778</td>\n",
       "      <td>N</td>\n",
       "      <td>4.50000</td>\n",
       "      <td>chembl20</td>\n",
       "      <td>845199</td>\n",
       "      <td>9606</td>\n",
       "      <td>GNAS</td>\n",
       "      <td>1723</td>\n",
       "      <td>InChI=1/C18H14N6O3/c1-23-10-15(24(26)27)16(22-...</td>\n",
       "      <td>O=C(NC=1C=C2N=C(NC2=CC1)C=3C=CC=CC3)C4=NN(C=C4...</td>\n",
       "    </tr>\n",
       "    <tr>\n",
       "      <th>7</th>\n",
       "      <td>AAABHMIRDIOYOK-NPVYFSBINA-N</td>\n",
       "      <td>CHEMBL1527551</td>\n",
       "      <td>3064</td>\n",
       "      <td>A</td>\n",
       "      <td>5.10000</td>\n",
       "      <td>chembl20</td>\n",
       "      <td>688497</td>\n",
       "      <td>9606</td>\n",
       "      <td>HTT</td>\n",
       "      <td>1926</td>\n",
       "      <td>InChI=1/C18H14N6O3/c1-23-10-15(24(26)27)16(22-...</td>\n",
       "      <td>O=C(NC=1C=C2N=C(NC2=CC1)C=3C=CC=CC3)C4=NN(C=C4...</td>\n",
       "    </tr>\n",
       "    <tr>\n",
       "      <th>8</th>\n",
       "      <td>AAABHMIRDIOYOK-NPVYFSBINA-N</td>\n",
       "      <td>CHEMBL1527551</td>\n",
       "      <td>3248</td>\n",
       "      <td>N</td>\n",
       "      <td>4.85000</td>\n",
       "      <td>chembl20</td>\n",
       "      <td>688571</td>\n",
       "      <td>9606</td>\n",
       "      <td>HPGD</td>\n",
       "      <td>2046</td>\n",
       "      <td>InChI=1/C18H14N6O3/c1-23-10-15(24(26)27)16(22-...</td>\n",
       "      <td>O=C(NC=1C=C2N=C(NC2=CC1)C=3C=CC=CC3)C4=NN(C=C4...</td>\n",
       "    </tr>\n",
       "    <tr>\n",
       "      <th>9</th>\n",
       "      <td>AAABHMIRDIOYOK-NPVYFSBINA-N</td>\n",
       "      <td>CHEMBL1527551</td>\n",
       "      <td>3417</td>\n",
       "      <td>N</td>\n",
       "      <td>4.69000</td>\n",
       "      <td>chembl20</td>\n",
       "      <td>954362</td>\n",
       "      <td>9606</td>\n",
       "      <td>IDH1</td>\n",
       "      <td>2124</td>\n",
       "      <td>InChI=1/C18H14N6O3/c1-23-10-15(24(26)27)16(22-...</td>\n",
       "      <td>O=C(NC=1C=C2N=C(NC2=CC1)C=3C=CC=CC3)C4=NN(C=C4...</td>\n",
       "    </tr>\n",
       "  </tbody>\n",
       "</table>\n",
       "</div>"
      ],
      "text/plain": [
       "                Ambit_InchiKey Original_Entry_ID  Entrez_ID Activity_Flag  \\\n",
       "0  AAAAZQPHATYWOK-YRBRRWAQNA-N          11399331       2064             A   \n",
       "1  AAAAZQPHATYWOK-YRBRRWAQNA-N      CHEMBL175513       1956             A   \n",
       "2  AAABHMIRDIOYOK-NPVYFSBINA-N     CHEMBL1527551      10919             N   \n",
       "3  AAABHMIRDIOYOK-NPVYFSBINA-N     CHEMBL1527551      19885             A   \n",
       "4  AAABHMIRDIOYOK-NPVYFSBINA-N     CHEMBL1527551        216             N   \n",
       "5  AAABHMIRDIOYOK-NPVYFSBINA-N     CHEMBL1527551       2740             N   \n",
       "6  AAABHMIRDIOYOK-NPVYFSBINA-N     CHEMBL1527551       2778             N   \n",
       "7  AAABHMIRDIOYOK-NPVYFSBINA-N     CHEMBL1527551       3064             A   \n",
       "8  AAABHMIRDIOYOK-NPVYFSBINA-N     CHEMBL1527551       3248             N   \n",
       "9  AAABHMIRDIOYOK-NPVYFSBINA-N     CHEMBL1527551       3417             N   \n",
       "\n",
       "     pXC50        DB  Original_Assay_ID  Tax_ID Gene_Symbol Ortholog_Group  \\\n",
       "0  7.19382   pubchem             248914    9606       ERBB2           1346   \n",
       "1  6.73000  chembl20             312997    9606        EGFR           1260   \n",
       "2  4.55000  chembl20             737344    9606       EHMT2           6822   \n",
       "3  5.35000  chembl20             688759   10090        RORC           3770   \n",
       "4  4.40000  chembl20             688238    9606     ALDH1A1            143   \n",
       "5  4.95000  chembl20             845177    9606       GLP1R           1701   \n",
       "6  4.50000  chembl20             845199    9606        GNAS           1723   \n",
       "7  5.10000  chembl20             688497    9606         HTT           1926   \n",
       "8  4.85000  chembl20             688571    9606        HPGD           2046   \n",
       "9  4.69000  chembl20             954362    9606        IDH1           2124   \n",
       "\n",
       "                                               InChI  \\\n",
       "0  InChI=1/C32H29ClN6O3S/c1-4-41-28-16-25-22(15-2...   \n",
       "1  InChI=1/C32H29ClN6O3S/c1-4-41-28-16-25-22(15-2...   \n",
       "2  InChI=1/C18H14N6O3/c1-23-10-15(24(26)27)16(22-...   \n",
       "3  InChI=1/C18H14N6O3/c1-23-10-15(24(26)27)16(22-...   \n",
       "4  InChI=1/C18H14N6O3/c1-23-10-15(24(26)27)16(22-...   \n",
       "5  InChI=1/C18H14N6O3/c1-23-10-15(24(26)27)16(22-...   \n",
       "6  InChI=1/C18H14N6O3/c1-23-10-15(24(26)27)16(22-...   \n",
       "7  InChI=1/C18H14N6O3/c1-23-10-15(24(26)27)16(22-...   \n",
       "8  InChI=1/C18H14N6O3/c1-23-10-15(24(26)27)16(22-...   \n",
       "9  InChI=1/C18H14N6O3/c1-23-10-15(24(26)27)16(22-...   \n",
       "\n",
       "                                              SMILES  \n",
       "0  ClC=1C=C(NC=2C=3C(N=CC2C#N)=CC(OCC)=C(NC(=O)/C...  \n",
       "1  C1=2C(=C(C#N)C=NC1=CC(=C(C2)NC(/C=C/CN(C)C)=O)...  \n",
       "2  O=C(NC=1C=C2N=C(NC2=CC1)C=3C=CC=CC3)C4=NN(C=C4...  \n",
       "3  O=C(NC=1C=C2N=C(NC2=CC1)C=3C=CC=CC3)C4=NN(C=C4...  \n",
       "4  O=C(NC=1C=C2N=C(NC2=CC1)C=3C=CC=CC3)C4=NN(C=C4...  \n",
       "5  O=C(NC=1C=C2N=C(NC2=CC1)C=3C=CC=CC3)C4=NN(C=C4...  \n",
       "6  O=C(NC=1C=C2N=C(NC2=CC1)C=3C=CC=CC3)C4=NN(C=C4...  \n",
       "7  O=C(NC=1C=C2N=C(NC2=CC1)C=3C=CC=CC3)C4=NN(C=C4...  \n",
       "8  O=C(NC=1C=C2N=C(NC2=CC1)C=3C=CC=CC3)C4=NN(C=C4...  \n",
       "9  O=C(NC=1C=C2N=C(NC2=CC1)C=3C=CC=CC3)C4=NN(C=C4...  "
      ]
     },
     "execution_count": 2,
     "metadata": {},
     "output_type": "execute_result"
    }
   ],
   "source": [
    "# ~26GB RAM required\n",
    "import duckdb\n",
    "\n",
    "excape_path = '../../Molecules-Datasets/ExCAPE/Full-ExCAPE.tsv'\n",
    "\n",
    "con = duckdb.connect(database=':memory:', read_only=False)\n",
    "con.execute(f'CREATE TABLE excape AS SELECT * FROM read_csv_auto(\\'{excape_path}\\')')\n",
    "\n",
    "con.execute('SELECT * FROM excape LIMIT 10').fetchdf()"
   ]
  },
  {
   "cell_type": "code",
   "execution_count": 3,
   "metadata": {},
   "outputs": [
    {
     "name": "stdout",
     "output_type": "stream",
     "text": [
      "Number of rows: 70,850,163\n"
     ]
    }
   ],
   "source": [
    "print(f'Number of rows: {con.execute(\"SELECT COUNT(*) FROM excape\").fetchdf().values[0][0]:,}')"
   ]
  },
  {
   "cell_type": "code",
   "execution_count": 4,
   "metadata": {},
   "outputs": [
    {
     "name": "stdout",
     "output_type": "stream",
     "text": [
      "1332 unique genes\n"
     ]
    },
    {
     "data": {
      "text/html": [
       "<div>\n",
       "<style scoped>\n",
       "    .dataframe tbody tr th:only-of-type {\n",
       "        vertical-align: middle;\n",
       "    }\n",
       "\n",
       "    .dataframe tbody tr th {\n",
       "        vertical-align: top;\n",
       "    }\n",
       "\n",
       "    .dataframe thead th {\n",
       "        text-align: right;\n",
       "    }\n",
       "</style>\n",
       "<table border=\"1\" class=\"dataframe\">\n",
       "  <thead>\n",
       "    <tr style=\"text-align: right;\">\n",
       "      <th></th>\n",
       "      <th>Gene_Symbol</th>\n",
       "    </tr>\n",
       "  </thead>\n",
       "  <tbody>\n",
       "    <tr>\n",
       "      <th>4</th>\n",
       "      <td>GALK1</td>\n",
       "    </tr>\n",
       "    <tr>\n",
       "      <th>768</th>\n",
       "      <td>CPB1</td>\n",
       "    </tr>\n",
       "    <tr>\n",
       "      <th>1316</th>\n",
       "      <td>SIK2</td>\n",
       "    </tr>\n",
       "    <tr>\n",
       "      <th>136</th>\n",
       "      <td>SLC1A1</td>\n",
       "    </tr>\n",
       "    <tr>\n",
       "      <th>1010</th>\n",
       "      <td>SENP7</td>\n",
       "    </tr>\n",
       "  </tbody>\n",
       "</table>\n",
       "</div>"
      ],
      "text/plain": [
       "     Gene_Symbol\n",
       "4          GALK1\n",
       "768         CPB1\n",
       "1316        SIK2\n",
       "136       SLC1A1\n",
       "1010       SENP7"
      ]
     },
     "execution_count": 4,
     "metadata": {},
     "output_type": "execute_result"
    }
   ],
   "source": [
    "unique_genes = con.execute('SELECT DISTINCT Gene_Symbol FROM excape').fetchdf()\n",
    "\n",
    "print(len(unique_genes), \"unique genes\")\n",
    "unique_genes.sample(5)"
   ]
  },
  {
   "cell_type": "code",
   "execution_count": 5,
   "metadata": {},
   "outputs": [
    {
     "name": "stdout",
     "output_type": "stream",
     "text": [
      "Gene: D2\n",
      "['CACNA2D2', 'BRD2', 'NOD2', 'AMPD2', 'PRKD2', 'DRD2', 'CD22', 'PLD2', 'PKD2']\n",
      "Gene: D3\n",
      "['PRKD3', 'DRD3', 'AMPD3', 'BRD3', 'SMAD3']\n",
      "Gene: MAO\n",
      "['MAOA', 'MAOB']\n",
      "Gene: HT\n",
      "['HTT', 'HTR2A', 'HTR1B', 'HTR2C', 'HTR5A', 'HTR7', 'HTR1E', 'HTR2B', 'HTR4', 'HTR3A', 'HTR1F', 'HTR1A', 'HTR6', 'HTR1D']\n",
      "Gene: ACHE\n",
      "['ACHE']\n"
     ]
    }
   ],
   "source": [
    "genes = [\"D2\", \"D3\", \"MAO\", \"HT\", \"ACHE\"]\n",
    "\n",
    "for gene in genes:\n",
    "    print(f'Gene: {gene}')\n",
    "\n",
    "    print([g for g in unique_genes[\"Gene_Symbol\"] if gene in g])"
   ]
  },
  {
   "cell_type": "code",
   "execution_count": 6,
   "metadata": {},
   "outputs": [],
   "source": [
    "from smiles_utils import filter_and_canonicalize, AllowedSmilesCharDictionary, split_charged_mol\n",
    "\n",
    "def clean_smile_list(smiles_list):\n",
    "    raw_smiles = []\n",
    "    smiles_char_dict = AllowedSmilesCharDictionary()\n",
    "\n",
    "    for smiles in smiles_list:\n",
    "        # only keep reasonably sized molecules\n",
    "        if 5 <= len(smiles) <= 200:\n",
    "\n",
    "            smiles = split_charged_mol(smiles)\n",
    "\n",
    "            if smiles_char_dict.allowed(smiles):\n",
    "                # check whether the molecular graph consists of\n",
    "                # multiple connected components (eg. in salts)\n",
    "                # if so, just keep the largest one\n",
    "                raw_smiles.append(smiles)\n",
    "    \n",
    "    filtered_smiles = [filter_and_canonicalize(smiles) for smiles in raw_smiles]\n",
    "    all_good_mols = sorted(list(set([item[0] for item in filtered_smiles if item])))\n",
    "\n",
    "    return all_good_mols\n",
    "\n",
    "\n",
    "smiles_char_dict = AllowedSmilesCharDictionary()\n",
    "\n",
    "def clean_smile(smiles):\n",
    "    # only keep reasonably sized molecules\n",
    "    if 5 > len(smiles) or len(smiles) > 200:\n",
    "        return None\n",
    "    \n",
    "    smiles = split_charged_mol(smiles)\n",
    "\n",
    "    if not smiles_char_dict.allowed(smiles):\n",
    "        return None\n",
    "    \n",
    "    filtered_smiles = filter_and_canonicalize(smiles)\n",
    "    return filtered_smiles[0] if filtered_smiles else None"
   ]
  },
  {
   "cell_type": "code",
   "execution_count": 7,
   "metadata": {},
   "outputs": [
    {
     "name": "stdout",
     "output_type": "stream",
     "text": [
      "INFO: Pandarallel will run on 12 workers.\n",
      "INFO: Pandarallel will use Memory file system to transfer data between the main process and workers.\n",
      "Gene: DRD2\n"
     ]
    },
    {
     "data": {
      "application/vnd.jupyter.widget-view+json": {
       "model_id": "a6b8a5dfb52845369535623e7a8da2d7",
       "version_major": 2,
       "version_minor": 0
      },
      "text/plain": [
       "FloatProgress(value=0.0, layout=Layout(width='auto'), style=ProgressStyle(bar_color='black'))"
      ]
     },
     "metadata": {},
     "output_type": "display_data"
    },
    {
     "name": "stdout",
     "output_type": "stream",
     "text": [
      "Gene rows: 351529\n"
     ]
    },
    {
     "data": {
      "application/vnd.jupyter.widget-view+json": {
       "model_id": "5a97b0748bfe47bb9c7927caba72bac5",
       "version_major": 2,
       "version_minor": 0
      },
      "text/plain": [
       "VBox(children=(HBox(children=(IntProgress(value=0, description='0.00%', max=29295), Label(value='0 / 29295')))…"
      ]
     },
     "metadata": {},
     "output_type": "display_data"
    },
    {
     "name": "stdout",
     "output_type": "stream",
     "text": [
      "Gene rows after filtering: 345190\n",
      "N    338028\n",
      "A      7162\n",
      "Name: Activity_Flag, dtype: int64\n",
      "count    7.427000e+03\n",
      "mean     6.806950e+00\n",
      "std      1.139891e+00\n",
      "min      8.881780e-16\n",
      "25%      6.010000e+00\n",
      "50%      6.744730e+00\n",
      "75%      7.530000e+00\n",
      "max      1.252000e+01\n",
      "Name: pXC50, dtype: float64\n",
      "              pXC50                                           \n",
      "              count      mean       std           min      max\n",
      "Activity_Flag                                                 \n",
      "A              7162  6.890315  1.066946  5.000000e+00  12.5200\n",
      "N               265  4.553889  0.621898  8.881780e-16   7.2521\n",
      "Active gene molecules: 7162\n",
      "Gene: DRD3\n"
     ]
    },
    {
     "data": {
      "application/vnd.jupyter.widget-view+json": {
       "model_id": "58633cbd00e64fe9828f5a0439909d0b",
       "version_major": 2,
       "version_minor": 0
      },
      "text/plain": [
       "FloatProgress(value=0.0, layout=Layout(width='auto'), style=ProgressStyle(bar_color='black'))"
      ]
     },
     "metadata": {},
     "output_type": "display_data"
    },
    {
     "name": "stdout",
     "output_type": "stream",
     "text": [
      "Gene rows: 406087\n"
     ]
    },
    {
     "data": {
      "application/vnd.jupyter.widget-view+json": {
       "model_id": "6d35ee46e4ac42b58fd8545d5a94afa0",
       "version_major": 2,
       "version_minor": 0
      },
      "text/plain": [
       "VBox(children=(HBox(children=(IntProgress(value=0, description='0.00%', max=33841), Label(value='0 / 33841')))…"
      ]
     },
     "metadata": {},
     "output_type": "display_data"
    },
    {
     "name": "stdout",
     "output_type": "stream",
     "text": [
      "Gene rows after filtering: 396823\n",
      "N    393830\n",
      "A      2993\n",
      "Name: Activity_Flag, dtype: int64\n",
      "count    3060.000000\n",
      "mean        7.240215\n",
      "std         1.275914\n",
      "min         3.100000\n",
      "25%         6.261793\n",
      "50%         7.220000\n",
      "75%         8.300000\n",
      "max        10.700000\n",
      "Name: pXC50, dtype: float64\n",
      "              pXC50                                \n",
      "              count      mean       std  min    max\n",
      "Activity_Flag                                      \n",
      "A              2993  7.301316  1.220322  5.0  10.70\n",
      "N                67  4.510731  0.459672  3.1   4.99\n",
      "Active gene molecules: 2993\n",
      "Gene: HTR2A\n"
     ]
    },
    {
     "data": {
      "application/vnd.jupyter.widget-view+json": {
       "model_id": "5010374123964f789f3686a1687846df",
       "version_major": 2,
       "version_minor": 0
      },
      "text/plain": [
       "FloatProgress(value=0.0, layout=Layout(width='auto'), style=ProgressStyle(bar_color='black'))"
      ]
     },
     "metadata": {},
     "output_type": "display_data"
    },
    {
     "name": "stdout",
     "output_type": "stream",
     "text": [
      "Gene rows: 364122\n"
     ]
    },
    {
     "data": {
      "application/vnd.jupyter.widget-view+json": {
       "model_id": "7e195ef153c141a69e2537bb662f1373",
       "version_major": 2,
       "version_minor": 0
      },
      "text/plain": [
       "VBox(children=(HBox(children=(IntProgress(value=0, description='0.00%', max=30344), Label(value='0 / 30344')))…"
      ]
     },
     "metadata": {},
     "output_type": "display_data"
    },
    {
     "name": "stdout",
     "output_type": "stream",
     "text": [
      "Gene rows after filtering: 355691\n",
      "N    352017\n",
      "A      3674\n",
      "Name: Activity_Flag, dtype: int64\n",
      "count    3826.000000\n",
      "mean        6.977663\n",
      "std         1.262385\n",
      "min         1.000000\n",
      "25%         6.080000\n",
      "50%         6.900010\n",
      "75%         7.823910\n",
      "max        12.920000\n",
      "Name: pXC50, dtype: float64\n",
      "              pXC50                                \n",
      "              count      mean       std  min    max\n",
      "Activity_Flag                                      \n",
      "A              3674  7.082829  1.171166  5.0  12.92\n",
      "N               152  4.435694  0.479973  1.0   5.00\n",
      "Active gene molecules: 3674\n",
      "Gene: ACHE\n",
      "Gene rows: 4312\n"
     ]
    },
    {
     "data": {
      "application/vnd.jupyter.widget-view+json": {
       "model_id": "d9926caffd19425e9f61935beace9aaa",
       "version_major": 2,
       "version_minor": 0
      },
      "text/plain": [
       "VBox(children=(HBox(children=(IntProgress(value=0, description='0.00%', max=360), Label(value='0 / 360'))), HB…"
      ]
     },
     "metadata": {},
     "output_type": "display_data"
    },
    {
     "name": "stdout",
     "output_type": "stream",
     "text": [
      "Gene rows after filtering: 3770\n",
      "A    2684\n",
      "N    1086\n",
      "Name: Activity_Flag, dtype: int64\n",
      "count    3688.000000\n",
      "mean        6.040926\n",
      "std         1.519415\n",
      "min         1.300000\n",
      "25%         4.890000\n",
      "50%         5.972655\n",
      "75%         7.140065\n",
      "max        12.390000\n",
      "Name: pXC50, dtype: float64\n",
      "              pXC50                                \n",
      "              count      mean       std  min    max\n",
      "Activity_Flag                                      \n",
      "A              2684  6.713985  1.164115  5.0  12.39\n",
      "N              1004  4.241633  0.639125  1.3   4.99\n",
      "Active gene molecules: 2684\n",
      "Gene: MAOB\n",
      "Gene rows: 2501\n"
     ]
    },
    {
     "data": {
      "application/vnd.jupyter.widget-view+json": {
       "model_id": "23c6a60245e54492863dddc25a41795e",
       "version_major": 2,
       "version_minor": 0
      },
      "text/plain": [
       "VBox(children=(HBox(children=(IntProgress(value=0, description='0.00%', max=209), Label(value='0 / 209'))), HB…"
      ]
     },
     "metadata": {},
     "output_type": "display_data"
    },
    {
     "name": "stdout",
     "output_type": "stream",
     "text": [
      "Gene rows after filtering: 2259\n",
      "A    1477\n",
      "N     782\n",
      "Name: Activity_Flag, dtype: int64\n",
      "count    2232.000000\n",
      "mean        5.723890\n",
      "std         1.467841\n",
      "min         0.540000\n",
      "25%         4.630000\n",
      "50%         5.621710\n",
      "75%         6.761575\n",
      "max        10.850000\n",
      "Name: pXC50, dtype: float64\n",
      "              pXC50                                 \n",
      "              count      mean       std   min    max\n",
      "Activity_Flag                                       \n",
      "A              1477  6.529514  1.065785  5.00  10.85\n",
      "N               755  4.147854  0.626849  0.54   5.00\n",
      "Active gene molecules: 1477\n"
     ]
    }
   ],
   "source": [
    "import pandas as pd\n",
    "from pandarallel import pandarallel\n",
    "from pathlib import Path\n",
    "\n",
    "pandarallel.initialize(progress_bar=True)\n",
    "\n",
    "genes = {\n",
    "    \"DRD2\": \"D2R\",\n",
    "    \"DRD3\": \"D3R\",\n",
    "    \"HTR2A\": \"_5HT2A\",\n",
    "    \"ACHE\": \"AChE\",\n",
    "    \"MAOB\": \"MAOB\"\n",
    "}\n",
    "\n",
    "gene_to_index = {\n",
    "    \"ACHE\": 1,\n",
    "    \"DRD2\": 2,\n",
    "    \"DRD3\": 3,\n",
    "    \"HTR2A\": 4,\n",
    "    \"MAOB\": 5\n",
    "}\n",
    "active_molecules = pd.DataFrame(columns=[\"SMILES\", \"Gene\"])\n",
    "assays_path = Path(\"../data/Assays-pXC50\")\n",
    "assays_path.mkdir(parents=True, exist_ok=True)\n",
    "\n",
    "for gene in genes:\n",
    "    print(f'Gene: {gene}')\n",
    "\n",
    "    # Select all rows where the gene symbol equals the gene\n",
    "    gene_rows = con.execute(f'SELECT * FROM excape WHERE Gene_Symbol = \\'{gene}\\'').fetchdf()\n",
    "    print(f'Gene rows: {gene_rows.shape[0]}')\n",
    "\n",
    "    # Filter out SMILES with invalid characters\n",
    "    gene_rows[\"SMILES\"] = gene_rows[\"SMILES\"].parallel_apply(clean_smile)\n",
    "    gene_rows = gene_rows.dropna(subset=[\"SMILES\"]).drop_duplicates(subset=[\"SMILES\"])\n",
    "\n",
    "    print(f'Gene rows after filtering: {gene_rows.shape[0]}')\n",
    "    print(gene_rows[\"Activity_Flag\"].value_counts())\n",
    "    print(gene_rows[\"pXC50\"].describe())\n",
    "\n",
    "    # Group by activity flag and calculate pXC50 metrics\n",
    "    gene_rows_grouped = gene_rows.groupby(\"Activity_Flag\").agg({\n",
    "        \"pXC50\": [\"count\", \"mean\", \"std\", \"min\", \"max\"]\n",
    "    })\n",
    "    print(gene_rows_grouped)\n",
    "\n",
    "    # Save the gene rows to a file\n",
    "    assay_pXC50 = gene_rows[[\"SMILES\", \"pXC50\"]].copy()\n",
    "    assay_pXC50_filtered = assay_pXC50.dropna(how=\"any\").copy()\n",
    "    assay_pXC50_filtered[\"pXC50\"] = assay_pXC50_filtered[\"pXC50\"].clip(0, 10)\n",
    "\n",
    "    assay_pXC50_file = assays_path / (genes[gene] + \".csv\")\n",
    "    assay_pXC50_filtered.to_csv(assay_pXC50_file, sep=',', index=False)\n",
    "\n",
    "    # Add active molecules to active molecules dataframe\n",
    "    active_gene_molecules = gene_rows[gene_rows[\"Activity_Flag\"] == \"A\"]\n",
    "    # active_gene_molecules = gene_rows[gene_rows[\"pXC50\"] >= 6]\n",
    "    print(f'Active gene molecules: {active_gene_molecules.shape[0]}')\n",
    "\n",
    "    top_active_gene_molecules = active_gene_molecules.sort_values(\"pXC50\", ascending=False).head(1000)\n",
    "    active_gene_molecules_df = top_active_gene_molecules[[\"SMILES\"]].assign(Gene=gene_to_index[gene])\n",
    "    active_molecules = pd.concat([active_molecules, active_gene_molecules_df])\n",
    "\n",
    "# Shuffle the active molecules\n",
    "# active_molecules = active_molecules.sample(frac=1, random_state=1907)\n",
    "# Not required anymore\n",
    "# active_molecules.to_csv(\"../data/excape_active_compounds.smi\", sep='\\t', index=False, header=False)"
   ]
  },
  {
   "cell_type": "code",
   "execution_count": 8,
   "metadata": {},
   "outputs": [
    {
     "name": "stdout",
     "output_type": "stream",
     "text": [
      "INFO: Pandarallel will run on 12 workers.\n",
      "INFO: Pandarallel will use Memory file system to transfer data between the main process and workers.\n"
     ]
    },
    {
     "name": "stderr",
     "output_type": "stream",
     "text": [
      "(427 genes) 352438 active molecules...: 100%|██████████| 1332/1332 [1:32:11<00:00,  4.15s/it]  \n"
     ]
    },
    {
     "name": "stdout",
     "output_type": "stream",
     "text": [
      "427\n"
     ]
    },
    {
     "data": {
      "text/html": [
       "<div>\n",
       "<style scoped>\n",
       "    .dataframe tbody tr th:only-of-type {\n",
       "        vertical-align: middle;\n",
       "    }\n",
       "\n",
       "    .dataframe tbody tr th {\n",
       "        vertical-align: top;\n",
       "    }\n",
       "\n",
       "    .dataframe thead th {\n",
       "        text-align: right;\n",
       "    }\n",
       "</style>\n",
       "<table border=\"1\" class=\"dataframe\">\n",
       "  <thead>\n",
       "    <tr style=\"text-align: right;\">\n",
       "      <th></th>\n",
       "      <th>SMILES</th>\n",
       "      <th>Gene</th>\n",
       "    </tr>\n",
       "  </thead>\n",
       "  <tbody>\n",
       "    <tr>\n",
       "      <th>95563</th>\n",
       "      <td>Cc1cc(CN2CCCC(C(=O)Nc3ccc(-c4nc5ccccc5[nH]4)cc...</td>\n",
       "      <td>6</td>\n",
       "    </tr>\n",
       "    <tr>\n",
       "      <th>25060</th>\n",
       "      <td>Cc1c(Cl)cccc1NC(=S)NCC(c1cccnc1)N(C)C</td>\n",
       "      <td>6</td>\n",
       "    </tr>\n",
       "    <tr>\n",
       "      <th>180634</th>\n",
       "      <td>Cc1cc(C)c2c(=O)n(CC(=O)NCCCN3CCN(c4ccccc4F)CC3...</td>\n",
       "      <td>6</td>\n",
       "    </tr>\n",
       "    <tr>\n",
       "      <th>273264</th>\n",
       "      <td>O=C(COc1ccc(Cl)cc1)Nc1ccc(C(=O)O)cc1NC(=O)COc1...</td>\n",
       "      <td>6</td>\n",
       "    </tr>\n",
       "    <tr>\n",
       "      <th>176041</th>\n",
       "      <td>O=[N+]([O-])c1ccc(N2CCN(CC3CCCO3)CC2)c2ncccc12</td>\n",
       "      <td>6</td>\n",
       "    </tr>\n",
       "    <tr>\n",
       "      <th>...</th>\n",
       "      <td>...</td>\n",
       "      <td>...</td>\n",
       "    </tr>\n",
       "    <tr>\n",
       "      <th>139</th>\n",
       "      <td>O=C(NCc1cn(C(=O)OCc2ccccc2)c2ccccc12)N1C2CCC(C...</td>\n",
       "      <td>426</td>\n",
       "    </tr>\n",
       "    <tr>\n",
       "      <th>464</th>\n",
       "      <td>Cc1cc(C)cc(C(=O)N2CCC(NCc3cnc4ccccc4c3)CC2Cc2c...</td>\n",
       "      <td>426</td>\n",
       "    </tr>\n",
       "    <tr>\n",
       "      <th>489</th>\n",
       "      <td>CN(C(=O)C(C)(C)c1cc(C(F)(F)F)cc(C(F)(F)F)c1)C(...</td>\n",
       "      <td>426</td>\n",
       "    </tr>\n",
       "    <tr>\n",
       "      <th>99</th>\n",
       "      <td>CC(C)(C(=O)NC(C(=O)NCCCN1CCOCC1)c1ccccc1)c1cc(...</td>\n",
       "      <td>426</td>\n",
       "    </tr>\n",
       "    <tr>\n",
       "      <th>84</th>\n",
       "      <td>O=C(Cc1cc(C(F)(F)F)cc(C(F)(F)F)c1)NC(C(=O)NCCN...</td>\n",
       "      <td>426</td>\n",
       "    </tr>\n",
       "  </tbody>\n",
       "</table>\n",
       "<p>352438 rows × 2 columns</p>\n",
       "</div>"
      ],
      "text/plain": [
       "                                                   SMILES Gene\n",
       "95563   Cc1cc(CN2CCCC(C(=O)Nc3ccc(-c4nc5ccccc5[nH]4)cc...    6\n",
       "25060               Cc1c(Cl)cccc1NC(=S)NCC(c1cccnc1)N(C)C    6\n",
       "180634  Cc1cc(C)c2c(=O)n(CC(=O)NCCCN3CCN(c4ccccc4F)CC3...    6\n",
       "273264  O=C(COc1ccc(Cl)cc1)Nc1ccc(C(=O)O)cc1NC(=O)COc1...    6\n",
       "176041     O=[N+]([O-])c1ccc(N2CCN(CC3CCCO3)CC2)c2ncccc12    6\n",
       "...                                                   ...  ...\n",
       "139     O=C(NCc1cn(C(=O)OCc2ccccc2)c2ccccc12)N1C2CCC(C...  426\n",
       "464     Cc1cc(C)cc(C(=O)N2CCC(NCc3cnc4ccccc4c3)CC2Cc2c...  426\n",
       "489     CN(C(=O)C(C)(C)c1cc(C(F)(F)F)cc(C(F)(F)F)c1)C(...  426\n",
       "99      CC(C)(C(=O)NC(C(=O)NCCCN1CCOCC1)c1ccccc1)c1cc(...  426\n",
       "84      O=C(Cc1cc(C(F)(F)F)cc(C(F)(F)F)c1)NC(C(=O)NCCN...  426\n",
       "\n",
       "[352438 rows x 2 columns]"
      ]
     },
     "execution_count": 8,
     "metadata": {},
     "output_type": "execute_result"
    }
   ],
   "source": [
    "from tqdm import tqdm\n",
    "\n",
    "# Save remaining active compounds to a file\n",
    "pandarallel.initialize(progress_bar=False)\n",
    "con.execute(\"PRAGMA disable_progress_bar\")\n",
    "\n",
    "\n",
    "idx = max(gene_to_index.values()) + 1\n",
    "remaining_active_molecules = pd.DataFrame(columns=[\"SMILES\", \"Gene\"])\n",
    "\n",
    "progress_bar = tqdm(unique_genes[\"Gene_Symbol\"])\n",
    "for gene in progress_bar:\n",
    "    if gene in genes:\n",
    "        continue\n",
    "\n",
    "    gene_rows = con.execute(f'SELECT * FROM excape WHERE Gene_Symbol = \\'{gene}\\'').fetchdf()\n",
    "    active_gene_molecules = gene_rows[gene_rows[\"Activity_Flag\"] == \"A\"]\n",
    "    # active_gene_molecules = gene_rows[gene_rows[\"pXC50\"] >= 6]\n",
    "    # print(f'Gene: {gene}, Rows: {gene_rows.shape[0]}, Active: {active_gene_molecules.shape[0]}')\n",
    "\n",
    "    if active_gene_molecules.shape[0] < 500:\n",
    "        continue\n",
    "\n",
    "    remaining_active_gene_molecules = active_gene_molecules.nlargest(1000, \"pXC50\")\n",
    "    remaining_active_gene_molecules = remaining_active_gene_molecules[[\"SMILES\"]].assign(Gene=idx)\n",
    "\n",
    "    remaining_active_gene_molecules[\"SMILES\"] = remaining_active_gene_molecules[\"SMILES\"].parallel_apply(clean_smile)\n",
    "    remaining_active_gene_molecules = (\n",
    "        remaining_active_gene_molecules\n",
    "            .dropna(subset=[\"SMILES\"])\n",
    "            .drop_duplicates(subset=[\"SMILES\"])\n",
    "    )\n",
    "\n",
    "    if len(remaining_active_gene_molecules) < 500:\n",
    "        continue\n",
    "\n",
    "    remaining_active_molecules = pd.concat([remaining_active_molecules, remaining_active_gene_molecules])\n",
    "    idx += 1\n",
    "    progress_bar.set_description(f'({idx} genes) {len(remaining_active_molecules)} active molecules...')\n",
    "\n",
    "all_active_molecules = pd.concat([active_molecules, remaining_active_molecules])\n",
    "all_active_molecules = all_active_molecules.sample(frac=1, random_state=1907)\n",
    "all_active_molecules.to_csv(\"../data/excape_all_active_compounds.smi\", sep='\\t', index=False, header=False)\n",
    "\n",
    "print(idx)\n",
    "remaining_active_molecules"
   ]
  },
  {
   "cell_type": "code",
   "execution_count": 10,
   "metadata": {},
   "outputs": [
    {
     "data": {
      "text/plain": [
       "(357438, 2)"
      ]
     },
     "execution_count": 10,
     "metadata": {},
     "output_type": "execute_result"
    }
   ],
   "source": [
    "all_active_molecules.shape"
   ]
  },
  {
   "cell_type": "code",
   "execution_count": 9,
   "metadata": {},
   "outputs": [
    {
     "data": {
      "text/plain": [
       "427"
      ]
     },
     "execution_count": 9,
     "metadata": {},
     "output_type": "execute_result"
    }
   ],
   "source": [
    "idx"
   ]
  }
 ],
 "metadata": {
  "kernelspec": {
   "display_name": "aidd",
   "language": "python",
   "name": "python3"
  },
  "language_info": {
   "codemirror_mode": {
    "name": "ipython",
    "version": 3
   },
   "file_extension": ".py",
   "mimetype": "text/x-python",
   "name": "python",
   "nbconvert_exporter": "python",
   "pygments_lexer": "ipython3",
   "version": "3.9.12"
  }
 },
 "nbformat": 4,
 "nbformat_minor": 2
}
