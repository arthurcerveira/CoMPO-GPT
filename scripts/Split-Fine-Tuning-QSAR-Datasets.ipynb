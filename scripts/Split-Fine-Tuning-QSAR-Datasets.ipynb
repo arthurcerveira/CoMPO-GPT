{
 "cells": [
  {
   "cell_type": "code",
   "execution_count": null,
   "metadata": {},
   "outputs": [],
   "source": [
    "# set random seed for reproducibility\n",
    "import numpy as np\n",
    "import random\n",
    "\n",
    "np.random.seed(0)\n",
    "random.seed(0)"
   ]
  },
  {
   "cell_type": "code",
   "execution_count": null,
   "metadata": {},
   "outputs": [],
   "source": [
    "import pandas as pd\n",
    "\n",
    "TARGETS = [\"AChE\", \"D2R\", \"D3R\", \"_5HT2A\", \"MAOB\", \"BBB\"]\n",
    "\n",
    "for target in TARGETS:\n",
    "    assay_df = pd.read_csv(f\"../data/Bioassays/{target}.csv\")\n",
    "    print(target, assay_df.shape)\n",
    "    print(assay_df[\"activity\"].value_counts())"
   ]
  },
  {
   "cell_type": "code",
   "execution_count": null,
   "metadata": {},
   "outputs": [],
   "source": [
    "# Create fine-tuning datasets with only active compounds\n",
    "# File .smi format:\n",
    "# SMILES\\tTargetID\n",
    "\n",
    "# Convert InChI to SMILES\n",
    "from rdkit import Chem\n",
    "\n",
    "# Ignore rdkit warnings\n",
    "from rdkit import RDLogger\n",
    "\n",
    "lg = RDLogger.logger()\n",
    "lg.setLevel(RDLogger.CRITICAL)\n",
    "\n",
    "targets_dfs = list()\n",
    "ids = list(range(1, 1 + len(TARGETS)))\n",
    "\n",
    "\n",
    "def inchi_to_smiles(inchi):\n",
    "    try:\n",
    "        return Chem.MolToSmiles(Chem.inchi.MolFromInchi(inchi))\n",
    "    except:\n",
    "        return None\n",
    "\n",
    "\n",
    "for ti, target in enumerate(TARGETS):\n",
    "    assay_df = pd.read_csv(f\"../data/Bioassays/{target}.csv\")\n",
    "    print(target, assay_df.shape)\n",
    "    \n",
    "    # Convert InChI to SMILES\n",
    "    assay_df[\"SMILES\"] = assay_df[\"InChI\"].apply(\n",
    "        inchi_to_smiles\n",
    "    )\n",
    "    assay_df = assay_df.dropna(subset=[\"SMILES\"])\n",
    "    \n",
    "    active_compounds = assay_df[assay_df[\"activity\"] == \"active\"].copy()\n",
    "\n",
    "    # randomly sample half of the active compounds for fine-tuning\n",
    "    active_compounds = active_compounds.sample(frac=0.5, random_state=42)\n",
    "    active_compounds[\"TargetID\"] = ids[ti]\n",
    "\n",
    "    targets_dfs.append(active_compounds)\n",
    "\n",
    "    # the other half is used for training the models\n",
    "    qsar_df = assay_df.drop(active_compounds.index)\n",
    "    qsar_df[\"activity\"] = qsar_df[\"activity\"].replace({\"active\": 1, \"inactive\": 0})\n",
    "    qsar_df.to_csv(f\"./data/Bioassays/{target}_SMILES.csv\", index=False)\n",
    "\n",
    "targets_df = pd.concat(targets_dfs)\n",
    "targets_df"
   ]
  },
  {
   "cell_type": "code",
   "execution_count": null,
   "metadata": {},
   "outputs": [],
   "source": [
    "# Save smiles and target id to file withouth header\n",
    "targets_df[[\"SMILES\", \"TargetID\"]].to_csv(\n",
    "    \"../data/active_compounds.smi\", sep=\"\\t\", header=False, index=False\n",
    ")"
   ]
  }
 ],
 "metadata": {
  "kernelspec": {
   "display_name": "aidd",
   "language": "python",
   "name": "python3"
  },
  "language_info": {
   "codemirror_mode": {
    "name": "ipython",
    "version": 3
   },
   "file_extension": ".py",
   "mimetype": "text/x-python",
   "name": "python",
   "nbconvert_exporter": "python",
   "pygments_lexer": "ipython3",
   "version": "3.9.12"
  }
 },
 "nbformat": 4,
 "nbformat_minor": 2
}
